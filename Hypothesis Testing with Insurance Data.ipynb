{
 "cells": [
  {
   "cell_type": "markdown",
   "id": "7a1010f7",
   "metadata": {},
   "source": [
    "# Hypothesis Testing with Insurance Data (Core)\n",
    "Student Name: Nathalie Castro\n",
    "- Q1. Do smokers have higher insurance charges than non-smokers?\n",
    "- Q2. Are men more likely to smoke than women?\n",
    "- Q3. Do different regions have different charges, on average?"
   ]
  },
  {
   "cell_type": "code",
   "execution_count": 1,
   "id": "4d05f053",
   "metadata": {},
   "outputs": [],
   "source": [
    "import matplotlib.pyplot as plt\n",
    "import numpy as np\n",
    "import pandas as pd\n",
    "import scipy.stats as stats\n",
    "import seaborn as sns\n",
    "from statsmodels.stats.multicomp import pairwise_tukeyhsd"
   ]
  },
  {
   "cell_type": "code",
   "execution_count": 2,
   "id": "b34870c8",
   "metadata": {},
   "outputs": [
    {
     "data": {
      "text/html": [
       "<div>\n",
       "<style scoped>\n",
       "    .dataframe tbody tr th:only-of-type {\n",
       "        vertical-align: middle;\n",
       "    }\n",
       "\n",
       "    .dataframe tbody tr th {\n",
       "        vertical-align: top;\n",
       "    }\n",
       "\n",
       "    .dataframe thead th {\n",
       "        text-align: right;\n",
       "    }\n",
       "</style>\n",
       "<table border=\"1\" class=\"dataframe\">\n",
       "  <thead>\n",
       "    <tr style=\"text-align: right;\">\n",
       "      <th></th>\n",
       "      <th>age</th>\n",
       "      <th>sex</th>\n",
       "      <th>bmi</th>\n",
       "      <th>children</th>\n",
       "      <th>smoker</th>\n",
       "      <th>region</th>\n",
       "      <th>charges</th>\n",
       "    </tr>\n",
       "  </thead>\n",
       "  <tbody>\n",
       "    <tr>\n",
       "      <th>236</th>\n",
       "      <td>18</td>\n",
       "      <td>female</td>\n",
       "      <td>26.730</td>\n",
       "      <td>0</td>\n",
       "      <td>no</td>\n",
       "      <td>southeast</td>\n",
       "      <td>1615.76670</td>\n",
       "    </tr>\n",
       "    <tr>\n",
       "      <th>665</th>\n",
       "      <td>43</td>\n",
       "      <td>male</td>\n",
       "      <td>38.060</td>\n",
       "      <td>2</td>\n",
       "      <td>yes</td>\n",
       "      <td>southeast</td>\n",
       "      <td>42560.43040</td>\n",
       "    </tr>\n",
       "    <tr>\n",
       "      <th>755</th>\n",
       "      <td>31</td>\n",
       "      <td>male</td>\n",
       "      <td>27.645</td>\n",
       "      <td>2</td>\n",
       "      <td>no</td>\n",
       "      <td>northeast</td>\n",
       "      <td>5031.26955</td>\n",
       "    </tr>\n",
       "    <tr>\n",
       "      <th>279</th>\n",
       "      <td>51</td>\n",
       "      <td>female</td>\n",
       "      <td>21.560</td>\n",
       "      <td>1</td>\n",
       "      <td>no</td>\n",
       "      <td>southeast</td>\n",
       "      <td>9855.13140</td>\n",
       "    </tr>\n",
       "    <tr>\n",
       "      <th>346</th>\n",
       "      <td>33</td>\n",
       "      <td>male</td>\n",
       "      <td>35.750</td>\n",
       "      <td>2</td>\n",
       "      <td>no</td>\n",
       "      <td>southeast</td>\n",
       "      <td>4889.99950</td>\n",
       "    </tr>\n",
       "  </tbody>\n",
       "</table>\n",
       "</div>"
      ],
      "text/plain": [
       "     age     sex     bmi  children smoker     region      charges\n",
       "236   18  female  26.730         0     no  southeast   1615.76670\n",
       "665   43    male  38.060         2    yes  southeast  42560.43040\n",
       "755   31    male  27.645         2     no  northeast   5031.26955\n",
       "279   51  female  21.560         1     no  southeast   9855.13140\n",
       "346   33    male  35.750         2     no  southeast   4889.99950"
      ]
     },
     "execution_count": 2,
     "metadata": {},
     "output_type": "execute_result"
    }
   ],
   "source": [
    "# Remote URL to data\n",
    "url = \"https://docs.google.com/spreadsheets/d/e/2PACX-1vS_QMaBBjsRTtjkuMZKXB8hoIaFNBgQpS8fdVZmX_GaIlLO_PEP26vFESQxwQTPWuCyLPR3j2R2myfS/pub?output=csv\"\n",
    "# Load the data\n",
    "df = pd.read_csv(url)\n",
    "# Verify\n",
    "df.sample(5)"
   ]
  },
  {
   "cell_type": "markdown",
   "id": "d7bdcf23",
   "metadata": {},
   "source": [
    "## Do smokers have higher insurance charges than non-smokers?\n",
    "- Null Hypothesis: There is no significant difference between insurance charges of non-smokers and insurance charges of smokers.\n",
    "\n",
    "- Alternative Hypothesis: There is a significant difference between insurance charges of non-smokers and insurance charges of smokers."
   ]
  },
  {
   "cell_type": "code",
   "execution_count": 3,
   "id": "e0d352fd",
   "metadata": {},
   "outputs": [],
   "source": [
    "# Get only smokers\n",
    "smokers_df = df.loc[df[\"smoker\"] == \"yes\", :]\n",
    "# Get non-smokers\n",
    "non_smokers_df = df.loc[df[\"smoker\"] == \"no\", :]"
   ]
  },
  {
   "cell_type": "code",
   "execution_count": 5,
   "id": "6adf471c",
   "metadata": {},
   "outputs": [
    {
     "name": "stdout",
     "output_type": "stream",
     "text": [
      "There are 0 outliers for smokers\n"
     ]
    }
   ],
   "source": [
    "# Reveal potential outliers\n",
    "smokers_zscores = stats.zscore(smokers_df[\"charges\"])\n",
    "smokers_outliers = abs(smokers_zscores) > 3\n",
    "print(f\"There are {np.sum(smokers_outliers)} outliers for smokers\")"
   ]
  },
  {
   "cell_type": "code",
   "execution_count": 6,
   "id": "d57ca658",
   "metadata": {},
   "outputs": [
    {
     "name": "stdout",
     "output_type": "stream",
     "text": [
      "There are 24 outliers for non-smokers\n"
     ]
    }
   ],
   "source": [
    "# Reveal potential outliers\n",
    "non_smokers_zscores = stats.zscore(non_smokers_df[\"charges\"])\n",
    "non_smokers_outliers = abs(non_smokers_zscores) > 3\n",
    "print(f\"There are {np.sum(non_smokers_outliers)} outliers for non-smokers\")"
   ]
  },
  {
   "cell_type": "code",
   "execution_count": 7,
   "id": "f1c0c154",
   "metadata": {},
   "outputs": [],
   "source": [
    "# Remove non-smoker outliers\n",
    "non_smokers_df = non_smokers_df.loc[~non_smokers_outliers, :]"
   ]
  },
  {
   "cell_type": "markdown",
   "id": "968beb2c",
   "metadata": {},
   "source": [
    "Checking for normality: \n",
    "- Null hypothesis: normal for distribution "
   ]
  },
  {
   "cell_type": "code",
   "execution_count": 8,
   "id": "2429a2ad",
   "metadata": {},
   "outputs": [
    {
     "data": {
      "text/plain": [
       "NormaltestResult(statistic=61.03941356533816, pvalue=5.564930630036463e-14)"
      ]
     },
     "execution_count": 8,
     "metadata": {},
     "output_type": "execute_result"
    }
   ],
   "source": [
    "result_smokers_df = stats.normaltest(smokers_df[\"charges\"])\n",
    "result_smokers_df"
   ]
  },
  {
   "cell_type": "code",
   "execution_count": 9,
   "id": "0e61e775",
   "metadata": {},
   "outputs": [
    {
     "data": {
      "text/plain": [
       "NormaltestResult(statistic=163.80367047789198, pvalue=2.6945416315543976e-36)"
      ]
     },
     "execution_count": 9,
     "metadata": {},
     "output_type": "execute_result"
    }
   ],
   "source": [
    "result_nonsmokers_df = stats.normaltest(non_smokers_df[\"charges\"])\n",
    "result_nonsmokers_df"
   ]
  },
  {
   "cell_type": "markdown",
   "id": "bdc7c32b",
   "metadata": {},
   "source": [
    "The p-values for both smokers and non-smokers are below the function's alpha of 0.05 so we would reject the hypothesis. "
   ]
  },
  {
   "cell_type": "code",
   "execution_count": 11,
   "id": "621019e2",
   "metadata": {},
   "outputs": [
    {
     "name": "stdout",
     "output_type": "stream",
     "text": [
      "Non-smokers sample size: 1040\n",
      "Smokers sample size: 274\n"
     ]
    }
   ],
   "source": [
    "print(\"Non-smokers sample size:\", len(non_smokers_df))\n",
    "print(\"Smokers sample size:\", len(smokers_df))"
   ]
  },
  {
   "cell_type": "code",
   "execution_count": 12,
   "id": "24551d0b",
   "metadata": {},
   "outputs": [
    {
     "data": {
      "text/plain": [
       "Ttest_indResult(statistic=33.732305987092516, pvalue=2.575322662587431e-104)"
      ]
     },
     "execution_count": 12,
     "metadata": {},
     "output_type": "execute_result"
    }
   ],
   "source": [
    "result = stats.ttest_ind(smokers_df[\"charges\"], non_smokers_df[\"charges\"], equal_var=False)\n",
    "result"
   ]
  },
  {
   "cell_type": "code",
   "execution_count": 14,
   "id": "26162d7b",
   "metadata": {},
   "outputs": [
    {
     "data": {
      "image/png": "[encoded data removed]",
      "text/plain": [
       "<Figure size 640x480 with 1 Axes>"
      ]
     },
     "metadata": {},
     "output_type": "display_data"
    }
   ],
   "source": [
    "sns.barplot(data=df, x=\"smoker\", y=\"charges\");"
   ]
  },
  {
   "cell_type": "markdown",
   "id": "d219886d",
   "metadata": {},
   "source": [
    "## Are men more likely to smoke than women?\n",
    "\n",
    "- Null Hypothesis: There is no significant relationship between sex and smoker status.\n",
    "\n",
    "- Alternative Hypothesis: There is a significant relationship between sex and smoker status."
   ]
  },
  {
   "cell_type": "code",
   "execution_count": 15,
   "id": "9dac93c8",
   "metadata": {},
   "outputs": [
    {
     "data": {
      "text/html": [
       "<div>\n",
       "<style scoped>\n",
       "    .dataframe tbody tr th:only-of-type {\n",
       "        vertical-align: middle;\n",
       "    }\n",
       "\n",
       "    .dataframe tbody tr th {\n",
       "        vertical-align: top;\n",
       "    }\n",
       "\n",
       "    .dataframe thead th {\n",
       "        text-align: right;\n",
       "    }\n",
       "</style>\n",
       "<table border=\"1\" class=\"dataframe\">\n",
       "  <thead>\n",
       "    <tr style=\"text-align: right;\">\n",
       "      <th>smoker</th>\n",
       "      <th>no</th>\n",
       "      <th>yes</th>\n",
       "    </tr>\n",
       "    <tr>\n",
       "      <th>sex</th>\n",
       "      <th></th>\n",
       "      <th></th>\n",
       "    </tr>\n",
       "  </thead>\n",
       "  <tbody>\n",
       "    <tr>\n",
       "      <th>female</th>\n",
       "      <td>547</td>\n",
       "      <td>115</td>\n",
       "    </tr>\n",
       "    <tr>\n",
       "      <th>male</th>\n",
       "      <td>517</td>\n",
       "      <td>159</td>\n",
       "    </tr>\n",
       "  </tbody>\n",
       "</table>\n",
       "</div>"
      ],
      "text/plain": [
       "smoker   no  yes\n",
       "sex             \n",
       "female  547  115\n",
       "male    517  159"
      ]
     },
     "execution_count": 15,
     "metadata": {},
     "output_type": "execute_result"
    }
   ],
   "source": [
    "# Obtain the contingency table\n",
    "table = pd.crosstab(df[\"sex\"], df[\"smoker\"])\n",
    "table"
   ]
  },
  {
   "cell_type": "code",
   "execution_count": 17,
   "id": "8eb09b37",
   "metadata": {},
   "outputs": [],
   "source": [
    "# Perform the test\n",
    "result = stats.chi2_contingency(table)\n",
    "_, p, _, _ = result"
   ]
  },
  {
   "cell_type": "code",
   "execution_count": 18,
   "id": "48cc437a",
   "metadata": {},
   "outputs": [
    {
     "name": "stdout",
     "output_type": "stream",
     "text": [
      "0.006548143503580696\n"
     ]
    },
    {
     "data": {
      "text/plain": [
       "True"
      ]
     },
     "execution_count": 18,
     "metadata": {},
     "output_type": "execute_result"
    }
   ],
   "source": [
    "print(p)\n",
    "p < 0.05"
   ]
  },
  {
   "cell_type": "code",
   "execution_count": 20,
   "id": "7ebd30f0",
   "metadata": {},
   "outputs": [
    {
     "data": {
      "image/png": "[encoded data removed]",
      "text/plain": [
       "<Figure size 640x480 with 1 Axes>"
      ]
     },
     "metadata": {},
     "output_type": "display_data"
    }
   ],
   "source": [
    "sns.countplot(data=df, x=\"smoker\", hue=\"sex\");"
   ]
  },
  {
   "cell_type": "code",
   "execution_count": null,
   "id": "48377f8d",
   "metadata": {},
   "outputs": [],
   "source": []
  },
  {
   "cell_type": "markdown",
   "id": "7e2e3933",
   "metadata": {},
   "source": [
    "### Do different regions have different charges, on average?\n",
    "- Null Hypothesis: On average, there is no significant difference in charges across regions.\n",
    "\n",
    "- Alternative Hypothesis: On average, there is a significant difference in charges across regions.\n"
   ]
  },
  {
   "cell_type": "code",
   "execution_count": 21,
   "id": "7a386d18",
   "metadata": {},
   "outputs": [
    {
     "data": {
      "text/plain": [
       "dict_keys(['southwest', 'southeast', 'northwest', 'northeast'])"
      ]
     },
     "execution_count": 21,
     "metadata": {},
     "output_type": "execute_result"
    }
   ],
   "source": [
    "# Define a dictionary with the regions\n",
    "regions = {}\n",
    "\n",
    "# Store the charge data from each region as a value and the region as the key\n",
    "for region in df[\"region\"].unique():\n",
    "    data = df.loc[df[\"region\"] == region, \"charges\"]\n",
    "    regions[region] = data\n",
    "\n",
    "# Show the keys\n",
    "regions.keys()"
   ]
  },
  {
   "cell_type": "code",
   "execution_count": 22,
   "id": "277c0c84",
   "metadata": {},
   "outputs": [
    {
     "name": "stdout",
     "output_type": "stream",
     "text": [
      "There are 8 outliers for the southwest region\n",
      "Removing them.\n",
      "There are 2 outliers for the southeast region\n",
      "Removing them.\n",
      "There are 7 outliers for the northwest region\n",
      "Removing them.\n",
      "There are 4 outliers for the northeast region\n",
      "Removing them.\n"
     ]
    }
   ],
   "source": [
    "# Check for outliers\n",
    "for region in regions.keys():\n",
    "    # Get the zscores for the specific region\n",
    "    zscores = stats.zscore(regions[region])\n",
    "    # Get the outliers for the region\n",
    "    outliers = abs(zscores) > 3\n",
    "    # Display how much outliers there are\n",
    "    print(f\"There are {outliers.sum()} outliers for the {region} region\")\n",
    "\n",
    "    # If there are outliers, remove them.\n",
    "    if outliers.sum():\n",
    "        print(\"Removing them.\")\n",
    "        regions[region] = regions[region].loc[~outliers]"
   ]
  },
  {
   "cell_type": "code",
   "execution_count": 23,
   "id": "2aa1e712",
   "metadata": {},
   "outputs": [
    {
     "data": {
      "text/html": [
       "<div>\n",
       "<style scoped>\n",
       "    .dataframe tbody tr th:only-of-type {\n",
       "        vertical-align: middle;\n",
       "    }\n",
       "\n",
       "    .dataframe tbody tr th {\n",
       "        vertical-align: top;\n",
       "    }\n",
       "\n",
       "    .dataframe thead th {\n",
       "        text-align: right;\n",
       "    }\n",
       "</style>\n",
       "<table border=\"1\" class=\"dataframe\">\n",
       "  <thead>\n",
       "    <tr style=\"text-align: right;\">\n",
       "      <th></th>\n",
       "      <th>n</th>\n",
       "      <th>p</th>\n",
       "      <th>test stat</th>\n",
       "    </tr>\n",
       "  </thead>\n",
       "  <tbody>\n",
       "    <tr>\n",
       "      <th>southwest</th>\n",
       "      <td>317.0</td>\n",
       "      <td>7.728611e-22</td>\n",
       "      <td>97.223886</td>\n",
       "    </tr>\n",
       "    <tr>\n",
       "      <th>southeast</th>\n",
       "      <td>362.0</td>\n",
       "      <td>1.936990e-13</td>\n",
       "      <td>58.544942</td>\n",
       "    </tr>\n",
       "    <tr>\n",
       "      <th>northwest</th>\n",
       "      <td>318.0</td>\n",
       "      <td>2.940543e-19</td>\n",
       "      <td>85.341045</td>\n",
       "    </tr>\n",
       "    <tr>\n",
       "      <th>northeast</th>\n",
       "      <td>320.0</td>\n",
       "      <td>3.557877e-17</td>\n",
       "      <td>75.749565</td>\n",
       "    </tr>\n",
       "  </tbody>\n",
       "</table>\n",
       "</div>"
      ],
      "text/plain": [
       "               n             p  test stat\n",
       "southwest  317.0  7.728611e-22  97.223886\n",
       "southeast  362.0  1.936990e-13  58.544942\n",
       "northwest  318.0  2.940543e-19  85.341045\n",
       "northeast  320.0  3.557877e-17  75.749565"
      ]
     },
     "execution_count": 23,
     "metadata": {},
     "output_type": "execute_result"
    }
   ],
   "source": [
    "# Create a dictionary for region normal test results\n",
    "region_norm_results = {}\n",
    "\n",
    "# Iterate through all the regions\n",
    "for key, values in regions.items():\n",
    "    stat, p = stats.normaltest(values)\n",
    "    region_norm_results[key] = {\n",
    "        \"n\": len(values),\n",
    "        \"p\": p,\n",
    "        \"test stat\": stat\n",
    "    }\n",
    "\n",
    "# Make into a DataFrame for easy viewing\n",
    "region_norm_results_df = pd.DataFrame(region_norm_results).T\n",
    "region_norm_results_df"
   ]
  },
  {
   "cell_type": "code",
   "execution_count": 24,
   "id": "791a72a5",
   "metadata": {},
   "outputs": [
    {
     "data": {
      "text/plain": [
       "LeveneResult(statistic=9.518349004554441, pvalue=3.2035503711783993e-06)"
      ]
     },
     "execution_count": 24,
     "metadata": {},
     "output_type": "execute_result"
    }
   ],
   "source": [
    "stats.levene(*regions.values())"
   ]
  },
  {
   "cell_type": "markdown",
   "id": "3f4e4c6e",
   "metadata": {},
   "source": [
    "The p-value is less than our alpha we we fail to reject our null hypothesis"
   ]
  },
  {
   "cell_type": "markdown",
   "id": "9136c456",
   "metadata": {},
   "source": [
    "#### Statistical Test"
   ]
  },
  {
   "cell_type": "code",
   "execution_count": 25,
   "id": "c2e33c9b",
   "metadata": {},
   "outputs": [
    {
     "data": {
      "text/plain": [
       "KruskalResult(statistic=6.914045702545643, pvalue=0.07468847911322242)"
      ]
     },
     "execution_count": 25,
     "metadata": {},
     "output_type": "execute_result"
    }
   ],
   "source": [
    "stats.kruskal(*regions.values())"
   ]
  },
  {
   "cell_type": "markdown",
   "id": "9bf0cd88",
   "metadata": {},
   "source": [
    "Since the p-value is greater than the alpha 0.05 we reject the null hypothesis and support the alternative hypothesis. "
   ]
  },
  {
   "cell_type": "code",
   "execution_count": 26,
   "id": "4eec4239",
   "metadata": {},
   "outputs": [
    {
     "data": {
      "text/html": [
       "<table class=\"simpletable\">\n",
       "<caption>Multiple Comparison of Means - Tukey HSD, FWER=0.05</caption>\n",
       "<tr>\n",
       "   <th>group1</th>    <th>group2</th>    <th>meandiff</th>   <th>p-adj</th>    <th>lower</th>     <th>upper</th>   <th>reject</th>\n",
       "</tr>\n",
       "<tr>\n",
       "  <td>northeast</td> <td>northwest</td>  <td>-988.8091</td> <td>0.7245</td> <td>-3428.9343</td> <td>1451.3161</td>  <td>False</td>\n",
       "</tr>\n",
       "<tr>\n",
       "  <td>northeast</td> <td>southeast</td>  <td>1329.0269</td> <td>0.4745</td> <td>-1044.9417</td> <td>3702.9955</td>  <td>False</td>\n",
       "</tr>\n",
       "<tr>\n",
       "  <td>northeast</td> <td>southwest</td> <td>-1059.4471</td> <td>0.6792</td> <td>-3499.5723</td> <td>1380.6781</td>  <td>False</td>\n",
       "</tr>\n",
       "<tr>\n",
       "  <td>northwest</td> <td>southeast</td>  <td>2317.8361</td> <td>0.0583</td>  <td>-54.1994</td>  <td>4689.8716</td>  <td>False</td>\n",
       "</tr>\n",
       "<tr>\n",
       "  <td>northwest</td> <td>southwest</td>   <td>-70.638</td>  <td>0.9999</td> <td>-2508.8826</td> <td>2367.6066</td>  <td>False</td>\n",
       "</tr>\n",
       "<tr>\n",
       "  <td>southeast</td> <td>southwest</td> <td>-2388.4741</td> <td>0.0477</td> <td>-4760.5096</td> <td>-16.4386</td>   <td>True</td> \n",
       "</tr>\n",
       "</table>"
      ],
      "text/plain": [
       "<class 'statsmodels.iolib.table.SimpleTable'>"
      ]
     },
     "execution_count": 26,
     "metadata": {},
     "output_type": "execute_result"
    }
   ],
   "source": [
    "tukeys_results = pairwise_tukeyhsd(df[\"charges\"], df[\"region\"])\n",
    "tukeys_results.summary()"
   ]
  },
  {
   "cell_type": "markdown",
   "id": "93b02b87",
   "metadata": {},
   "source": [
    "The results above display a significant difference between the south east and south west. "
   ]
  },
  {
   "cell_type": "code",
   "execution_count": 27,
   "id": "27da7b0a",
   "metadata": {},
   "outputs": [
    {
     "data": {
      "image/png": "[encoded data removed]",
      "text/plain": [
       "<Figure size 640x480 with 1 Axes>"
      ]
     },
     "metadata": {},
     "output_type": "display_data"
    }
   ],
   "source": [
    "sns.barplot(data=df.loc[(df[\"region\"] == \"southwest\") | (df[\"region\"] == \"southeast\"), :], x=\"region\", y=\"charges\");"
   ]
  },
  {
   "cell_type": "markdown",
   "id": "343a1f4e",
   "metadata": {},
   "source": [
    "The visual above depicts that the southeast region is charged more than the southwest. "
   ]
  }
 ],
 "metadata": {
  "kernelspec": {
   "display_name": "Python (dojo-env)",
   "language": "python",
   "name": "dojo-env"
  },
  "language_info": {
   "codemirror_mode": {
    "name": "ipython",
    "version": 3
   },
   "file_extension": ".py",
   "mimetype": "text/x-python",
   "name": "python",
   "nbconvert_exporter": "python",
   "pygments_lexer": "ipython3",
   "version": "3.9.15"
  },
  "toc": {
   "base_numbering": 1,
   "nav_menu": {},
   "number_sections": false,
   "sideBar": true,
   "skip_h1_title": false,
   "title_cell": "Table of Contents",
   "title_sidebar": "Contents",
   "toc_cell": false,
   "toc_position": {},
   "toc_section_display": true,
   "toc_window_display": false
  }
 },
 "nbformat": 4,
 "nbformat_minor": 5
}
